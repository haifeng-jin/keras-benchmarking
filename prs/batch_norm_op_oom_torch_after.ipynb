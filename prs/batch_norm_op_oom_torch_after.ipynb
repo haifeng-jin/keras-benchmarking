{
 "nbformat": 4,
 "nbformat_minor": 0,
 "metadata": {
  "colab": {
   "provenance": [],
   "gpuType": "V100",
   "authorship_tag": "ABX9TyNFNtaTvMk20GhYWcgOFPJb",
   "include_colab_link": true
  },
  "kernelspec": {
   "name": "python3",
   "display_name": "Python 3"
  },
  "language_info": {
   "name": "python"
  },
  "accelerator": "GPU"
 },
 "cells": [
  {
   "cell_type": "markdown",
   "metadata": {
    "id": "view-in-github",
    "colab_type": "text"
   },
   "source": [
    "<a href=\"https://colab.research.google.com/github/haifeng-jin/keras-benchmarking/blob/main/batch_norm_op_oom_torch_after.ipynb\" target=\"_parent\"><img src=\"https://colab.research.google.com/assets/colab-badge.svg\" alt=\"Open In Colab\"/></a>"
   ]
  },
  {
   "cell_type": "markdown",
   "source": [
    "See details in [this pull request](https://github.com/keras-team/keras/pull/18793).\n",
    "\n",
    "This notebook runs on the HEAD commit of the PR.\n",
    "\n",
    "Runtime: V100"
   ],
   "metadata": {
    "id": "14So94pmWGtW"
   }
  },
  {
   "cell_type": "code",
   "execution_count": null,
   "metadata": {
    "id": "uJM7dw0-kUyl"
   },
   "outputs": [],
   "source": [
    "# %%script false --no-raise-error\n",
    "\n",
    "!apt install -qq python3-venv\n",
    "!pip install -q namex\n",
    "!git clone --quiet https://github.com/haifeng-jin/keras.git\n",
    "!cd keras && git checkout 167724293105a12cfe62f9321cb72ef75f07b3b0\n",
    "!python keras/pip_build.py --install > /dev/null"
   ]
  },
  {
   "cell_type": "markdown",
   "source": [
    "# Restart before proceed.\n",
    "\n",
    "# Restart before proceed.\n",
    "\n",
    "# Restart before proceed.\n",
    "\n",
    "# Restart before proceed.\n",
    "\n",
    "# Restart before proceed.\n",
    "\n",
    "# Restart before proceed.\n",
    "\n",
    "# Restart before proceed.\n",
    "\n",
    "# Restart before proceed.\n",
    "\n",
    "# Restart before proceed.\n",
    "\n"
   ],
   "metadata": {
    "id": "NpqVAKV2WM30"
   }
  },
  {
   "cell_type": "code",
   "source": [
    "import os\n",
    "\n",
    "os.environ[\"KERAS_BACKEND\"] = \"torch\""
   ],
   "metadata": {
    "id": "b2q8oY1-ZHfH"
   },
   "execution_count": null,
   "outputs": []
  },
  {
   "cell_type": "code",
   "source": [
    "import keras\n",
    "import numpy as np\n",
    "import torch\n",
    "import time\n",
    "\n",
    "torch.cuda.empty_cache()\n",
    "keras.config.set_image_data_format(\"channels_first\")\n",
    "batch_size = 98\n",
    "\n",
    "# Prepare the model\n",
    "steps = 101\n",
    "model = keras.applications.resnet50.ResNet50()\n",
    "model.compile(\n",
    "    loss=keras.losses.SparseCategoricalCrossentropy(),\n",
    "    optimizer=\"adam\",\n",
    ")\n",
    "\n",
    "print(torch.cuda.memory_allocated() / 1024 / 1024)\n",
    "\n",
    "\n",
    "# Prepare data\n",
    "class MyDataset(torch.utils.data.Dataset):\n",
    "    def __init__(self):\n",
    "        self.images = np.random.randn(3, 224, 224)\n",
    "        self.labels = np.random.randint(\n",
    "            0,\n",
    "            1000,\n",
    "            size=tuple(),\n",
    "        )\n",
    "\n",
    "    def __len__(self):\n",
    "        return steps * batch_size\n",
    "\n",
    "    def __getitem__(self, idx):\n",
    "        return self.images, self.labels\n",
    "\n",
    "\n",
    "dataset = torch.utils.data.DataLoader(\n",
    "    MyDataset(), batch_size=batch_size, shuffle=True\n",
    ")\n",
    "\n",
    "# Train the model\n",
    "model.fit(dataset)\n",
    "\n",
    "torch.cuda.empty_cache()\n",
    "print(torch.cuda.memory_allocated() / 1024 / 1024)"
   ],
   "metadata": {
    "id": "-HVOegMuRSZs",
    "colab": {
     "base_uri": "https://localhost:8080/"
    },
    "outputId": "2000bb6f-382e-40fb-f74d-7c11c7081f36"
   },
   "execution_count": null,
   "outputs": [
    {
     "output_type": "stream",
     "name": "stdout",
     "text": [
      "97.80712890625\n",
      "\u001b[1m101/101\u001b[0m \u001b[32m━━━━━━━━━━━━━━━━━━━━\u001b[0m\u001b[37m\u001b[0m \u001b[1m57s\u001b[0m 540ms/step - loss: 0.5257\n",
      "412.0849609375\n"
     ]
    }
   ]
  },
  {
   "cell_type": "markdown",
   "source": [
    "Some useful files:\n",
    "\n",
    "/usr/local/lib/python3.10/dist-packages/keras/src/backend/torch/core.py\n",
    "\n",
    "/usr/local/lib/python3.10/dist-packages/keras/src/layers/normalization/batch_normalization.py\n",
    "\n",
    "/usr/local/lib/python3.10/dist-packages/keras/src/backend/torch/nn.py\n",
    "\n",
    "/usr/local/lib/python3.10/dist-packages/keras/src/backend/torch/trainer.py\n",
    "\n",
    "/usr/local/lib/python3.10/dist-packages/keras/src/applications/\n",
    "\n",
    "/usr/local/lib/python3.10/dist-packages/tensorflow/__init__.py"
   ],
   "metadata": {
    "id": "kEiPj41NvBBQ"
   }
  }
 ]
}