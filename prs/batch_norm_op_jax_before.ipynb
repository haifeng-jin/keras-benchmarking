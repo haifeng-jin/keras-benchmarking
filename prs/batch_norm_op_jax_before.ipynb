{
 "nbformat": 4,
 "nbformat_minor": 0,
 "metadata": {
  "colab": {
   "provenance": [],
   "gpuType": "V100",
   "authorship_tag": "ABX9TyMt4c4KEFZPP+1DhF7/1wuF",
   "include_colab_link": true
  },
  "kernelspec": {
   "name": "python3",
   "display_name": "Python 3"
  },
  "language_info": {
   "name": "python"
  },
  "accelerator": "GPU"
 },
 "cells": [
  {
   "cell_type": "markdown",
   "metadata": {
    "id": "view-in-github",
    "colab_type": "text"
   },
   "source": [
    "<a href=\"https://colab.research.google.com/github/haifeng-jin/keras-benchmarking/blob/main/batch_norm_op_jax_before.ipynb\" target=\"_parent\"><img src=\"https://colab.research.google.com/assets/colab-badge.svg\" alt=\"Open In Colab\"/></a>"
   ]
  },
  {
   "cell_type": "markdown",
   "source": [
    "See details in [this pull request](https://github.com/keras-team/keras/pull/18793).\n",
    "\n",
    "This notebook runs on the base commit of the PR.\n",
    "\n",
    "Runtime: V100"
   ],
   "metadata": {
    "id": "HQsHTewXKNiz"
   }
  },
  {
   "cell_type": "code",
   "execution_count": null,
   "metadata": {
    "colab": {
     "base_uri": "https://localhost:8080/"
    },
    "id": "uJM7dw0-kUyl",
    "outputId": "73fd5d24-85a7-4fe5-c7b3-a3ce2c94d6d4"
   },
   "outputs": [
    {
     "output_type": "stream",
     "name": "stdout",
     "text": [
      "The following additional packages will be installed:\n",
      "  python3-pip-whl python3-setuptools-whl python3.10-venv\n",
      "The following NEW packages will be installed:\n",
      "  python3-pip-whl python3-setuptools-whl python3-venv python3.10-venv\n",
      "0 upgraded, 4 newly installed, 0 to remove and 9 not upgraded.\n",
      "Need to get 2,474 kB of archives.\n",
      "After this operation, 2,890 kB of additional disk space will be used.\n",
      "Selecting previously unselected package python3-pip-whl.\n",
      "(Reading database ... 120880 files and directories currently installed.)\n",
      "Preparing to unpack .../python3-pip-whl_22.0.2+dfsg-1ubuntu0.4_all.deb ...\n",
      "Unpacking python3-pip-whl (22.0.2+dfsg-1ubuntu0.4) ...\n",
      "Selecting previously unselected package python3-setuptools-whl.\n",
      "Preparing to unpack .../python3-setuptools-whl_59.6.0-1.2ubuntu0.22.04.1_all.deb ...\n",
      "Unpacking python3-setuptools-whl (59.6.0-1.2ubuntu0.22.04.1) ...\n",
      "Selecting previously unselected package python3.10-venv.\n",
      "Preparing to unpack .../python3.10-venv_3.10.12-1~22.04.2_amd64.deb ...\n",
      "Unpacking python3.10-venv (3.10.12-1~22.04.2) ...\n",
      "Selecting previously unselected package python3-venv.\n",
      "Preparing to unpack .../python3-venv_3.10.6-1~22.04_amd64.deb ...\n",
      "Unpacking python3-venv (3.10.6-1~22.04) ...\n",
      "Setting up python3-setuptools-whl (59.6.0-1.2ubuntu0.22.04.1) ...\n",
      "Setting up python3-pip-whl (22.0.2+dfsg-1ubuntu0.4) ...\n",
      "Setting up python3.10-venv (3.10.12-1~22.04.2) ...\n",
      "Setting up python3-venv (3.10.6-1~22.04) ...\n",
      "Note: switching to '66bb075f765e0c7fe80bf7af6d3cbb9148824675'.\n",
      "\n",
      "You are in 'detached HEAD' state. You can look around, make experimental\n",
      "changes and commit them, and you can discard any commits you make in this\n",
      "state without impacting any branches by switching back to a branch.\n",
      "\n",
      "If you want to create a new branch to retain commits you create, you may\n",
      "do so (now or later) by using -c with the switch command. Example:\n",
      "\n",
      "  git switch -c <new-branch-name>\n",
      "\n",
      "Or undo this operation with:\n",
      "\n",
      "  git switch -\n",
      "\n",
      "Turn off this advice by setting config variable advice.detachedHead to false\n",
      "\n",
      "HEAD is now at 66bb075f7 Update example\n",
      "2023-11-20 19:07:17.821659: E tensorflow/compiler/xla/stream_executor/cuda/cuda_dnn.cc:9342] Unable to register cuDNN factory: Attempting to register factory for plugin cuDNN when one has already been registered\n",
      "2023-11-20 19:07:17.821718: E tensorflow/compiler/xla/stream_executor/cuda/cuda_fft.cc:609] Unable to register cuFFT factory: Attempting to register factory for plugin cuFFT when one has already been registered\n",
      "2023-11-20 19:07:17.821756: E tensorflow/compiler/xla/stream_executor/cuda/cuda_blas.cc:1518] Unable to register cuBLAS factory: Attempting to register factory for plugin cuBLAS when one has already been registered\n",
      "2023-11-20 19:07:17.830052: I tensorflow/core/platform/cpu_feature_guard.cc:182] This TensorFlow binary is optimized to use available CPU instructions in performance-critical operations.\n",
      "To enable the following instructions: AVX2 AVX512F FMA, in other operations, rebuild TensorFlow with the appropriate compiler flags.\n",
      "2023-11-20 19:07:18.898355: W tensorflow/compiler/tf2tensorrt/utils/py_utils.cc:38] TF-TRT Warning: Could not find TensorRT\n"
     ]
    }
   ],
   "source": [
    "# %%script false --no-raise-error\n",
    "\n",
    "!apt install -qq python3-venv\n",
    "!pip install -q namex\n",
    "!git clone --quiet https://github.com/haifeng-jin/keras.git\n",
    "!cd keras && git checkout 66bb075f765e0c7fe80bf7af6d3cbb9148824675\n",
    "!python keras/pip_build.py --install > /dev/null"
   ]
  },
  {
   "cell_type": "markdown",
   "source": [
    "Some useful files:\n",
    "\n",
    "/usr/local/lib/python3.10/dist-packages/keras_core/src/backend/torch/core.py"
   ],
   "metadata": {
    "id": "kEiPj41NvBBQ"
   }
  },
  {
   "cell_type": "code",
   "source": [
    "import os\n",
    "\n",
    "os.environ[\"KERAS_BACKEND\"] = \"jax\""
   ],
   "metadata": {
    "id": "vPIL5myFnmoS"
   },
   "execution_count": null,
   "outputs": []
  },
  {
   "cell_type": "code",
   "source": [
    "import keras\n",
    "\n",
    "print(keras.__file__)"
   ],
   "metadata": {
    "colab": {
     "base_uri": "https://localhost:8080/"
    },
    "id": "nEQeHe7pmWGG",
    "outputId": "35e25f3a-5406-43b7-fdce-868442e4c7e6"
   },
   "execution_count": null,
   "outputs": [
    {
     "output_type": "stream",
     "name": "stdout",
     "text": [
      "/usr/local/lib/python3.10/dist-packages/keras/__init__.py\n"
     ]
    }
   ]
  },
  {
   "cell_type": "code",
   "source": [
    "import cProfile\n",
    "import pstats\n",
    "\n",
    "\n",
    "def start_profile():\n",
    "    profiler = cProfile.Profile()\n",
    "    profiler.enable()\n",
    "\n",
    "\n",
    "def end_profile(profiler):\n",
    "    profiler.disable()\n",
    "    stats = pstats.Stats(profiler).sort_stats(\"cumtime\")\n",
    "    stats.print_stats()"
   ],
   "metadata": {
    "id": "TXxYDwTN6YuK"
   },
   "execution_count": null,
   "outputs": []
  },
  {
   "cell_type": "code",
   "source": [
    "import time\n",
    "import tensorflow as tf\n",
    "import numpy as np\n",
    "\n",
    "\n",
    "class BenchmarkMetricsCallback(keras.callbacks.Callback):\n",
    "    def __init__(self, start_batch=1, stop_batch=None):\n",
    "        self.start_batch = start_batch\n",
    "        self.stop_batch = stop_batch\n",
    "\n",
    "        self.state = {}\n",
    "\n",
    "    def on_train_batch_begin(self, batch, logs=None):\n",
    "        if batch == self.start_batch:\n",
    "            self.state[\"benchmark_begin\"] = time.time()\n",
    "\n",
    "    def on_train_batch_end(self, batch, logs=None):\n",
    "        if batch == self.stop_batch:\n",
    "            self.state[\"benchmark_end\"] = time.time()\n",
    "            throughput = (self.stop_batch - self.start_batch + 1) / (\n",
    "                self.state[\"benchmark_end\"] - self.state[\"benchmark_begin\"]\n",
    "            )\n",
    "            self.state[\"throughput\"] = throughput\n",
    "\n",
    "    def on_predict_batch_begin(self, batch, logs=None):\n",
    "        if batch == self.start_batch:\n",
    "            self.state[\"benchmark_begin\"] = time.time()\n",
    "\n",
    "    def on_predict_batch_end(self, batch, logs=None):\n",
    "        if batch == self.stop_batch:\n",
    "            self.state[\"benchmark_end\"] = time.time()\n",
    "            throughput = (self.stop_batch - self.start_batch + 1) / (\n",
    "                self.state[\"benchmark_end\"] - self.state[\"benchmark_begin\"]\n",
    "            )\n",
    "            self.state[\"throughput\"] = throughput\n",
    "\n",
    "\n",
    "batch_size = 128\n",
    "model = keras.applications.resnet50.ResNet50()\n",
    "images = np.random.randn(batch_size, 224, 224, 3)\n",
    "labels = np.random.randint(0, 1000, (batch_size,))\n",
    "dataset = tf.data.Dataset.from_tensor_slices((images, labels)).repeat(101)\n",
    "dataset = dataset.batch(batch_size)\n",
    "\n",
    "model.compile(\n",
    "    loss=keras.losses.SparseCategoricalCrossentropy(),\n",
    "    optimizer=\"adam\",\n",
    ")\n",
    "\n",
    "callback = BenchmarkMetricsCallback(stop_batch=100)\n",
    "model.fit(dataset, epochs=1, callbacks=[callback])\n",
    "print(f\"training: {1000.0 / callback.state['throughput']:.0f} ms/step\")\n",
    "\n",
    "callback = BenchmarkMetricsCallback(stop_batch=100)\n",
    "model.predict(dataset, callbacks=[callback])\n",
    "print(f\"inferencing: {1000.0 / callback.state['throughput']:.0f} ms/step\")"
   ],
   "metadata": {
    "colab": {
     "base_uri": "https://localhost:8080/"
    },
    "id": "uLrb3Rdp7GQY",
    "outputId": "c0148ce6-1cf5-4aed-b054-4b5cb32fdcd2"
   },
   "execution_count": null,
   "outputs": [
    {
     "output_type": "stream",
     "name": "stdout",
     "text": [
      "Downloading data from https://storage.googleapis.com/tensorflow/keras-applications/resnet/resnet50_weights_tf_dim_ordering_tf_kernels.h5\n",
      "\u001b[1m102967424/102967424\u001b[0m \u001b[32m━━━━━━━━━━━━━━━━━━━━\u001b[0m\u001b[37m\u001b[0m \u001b[1m3s\u001b[0m 0us/step\n",
      "\u001b[1m101/101\u001b[0m \u001b[32m━━━━━━━━━━━━━━━━━━━━\u001b[0m\u001b[37m\u001b[0m \u001b[1m98s\u001b[0m 463ms/step - loss: 0.5605\n",
      "training: 459 ms/step\n",
      "\u001b[1m101/101\u001b[0m \u001b[32m━━━━━━━━━━━━━━━━━━━━\u001b[0m\u001b[37m\u001b[0m \u001b[1m41s\u001b[0m 374ms/step\n",
      "inferencing: 178 ms/step\n"
     ]
    }
   ]
  }
 ]
}